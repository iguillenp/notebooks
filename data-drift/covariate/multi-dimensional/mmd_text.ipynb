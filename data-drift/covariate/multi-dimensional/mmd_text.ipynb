{
 "cells": [
  {
   "cell_type": "markdown",
   "metadata": {},
   "source": [
    "# Mean Maximum Discrepancy en Textos"
   ]
  },
  {
   "cell_type": "markdown",
   "metadata": {},
   "source": [
    "Este notebook es una variación del `mmmd.ipynb` pero aplicando la técnica de detección de data drift sobre contenido textual. Para poder seguir el contenido de este notebook es preciso comprender conceptos como tokenización, generación de embeddings y cálculo de data drift con MMD. Todos estos contenidos están detallados en el repositorio, revisarlos en caso de ser necesario."
   ]
  },
  {
   "cell_type": "code",
   "execution_count": null,
   "metadata": {},
   "outputs": [],
   "source": [
    "# Para este notebook hay que tener instalado numpy, scikit-learn, matplotlib, frouros, transformer y Torch\n",
    "\n",
    "# Imports para adquisición y gestión de datos\n",
    "from kaggle.api.kaggle_api_extended import KaggleApi\n",
    "import pandas as pd\n",
    "import numpy as np\n",
    "seed= 42\n",
    "np.random.seed(seed)\n",
    "\n",
    "\n",
    "# Imports para data drift\n",
    "from scipy.spatial.distance import pdist\n",
    "from frouros.detectors.data_drift import MMD\n",
    "from frouros.utils.kernels import rbf_kernel\n",
    "from functools import partial\n",
    "\n",
    "# Imports para embeddings\n",
    "from transformers import AutoModel, AutoTokenizer\n",
    "import torch\n",
    "\n",
    "# Imports para soporte gráfico\n",
    "import matplotlib.pyplot as plt\n",
    "from matplotlib.patches import Rectangle"
   ]
  },
  {
   "cell_type": "markdown",
   "metadata": {},
   "source": [
    "## Recursos previos"
   ]
  },
  {
   "cell_type": "markdown",
   "metadata": {},
   "source": [
    "En esta sección rescatamos de los notebooks de este repositorio diferentes funcionalidades como el cálculo del drift y la generación de embeddings. Estas técnicas han sido desarrolladas en detalle en sus correspondientes notebooks, por lo cual, en caso de dudas recomiendo acudir a los recursos correspondientes."
   ]
  },
  {
   "cell_type": "code",
   "execution_count": null,
   "metadata": {},
   "outputs": [],
   "source": [
    "# Como vamos a ver la detección de data drift con varios conjuntos de datos lo hemos instanciado como un metodo.\n",
    "# Recibirá un sample_a como conjunto de datos de referencia y un sample_b como el de test. Además se harán K permutaciones,\n",
    "# que por defecto hemos definido como 100. \n",
    "\n",
    "def mmd_drift_computation(sample_a, sample_b, K = 100):\n",
    "\n",
    "    # Para calcular el drift entre dos conjuntos de vectores con MMD vamos a seguir los siguientes pasos.\n",
    "\n",
    "\n",
    "    # 1. Identificamos las muestras de referencia y test. \n",
    "    # También guardamos su tamaño porque más adelante hay que tenerlo en cuenta.\n",
    "    reference_sample= sample_a\n",
    "    reference_sample_size= len(sample_a)\n",
    "\n",
    "    test_sample= sample_b\n",
    "    test_sample_size= len(sample_b)\n",
    "\n",
    "\n",
    "    # El método de MMD requiere de un kernel. Lo más común es utilizar RBF, como haremos en este estudio.\n",
    "    # Para utilizar este kernel, hay que establecer un parámetro llamado sigma_median, que cumple una función de\n",
    "    # nivel de zoom para MMD. Este valor permite a MMD ajustar la búsqueda de diferencias a una escala particular.\n",
    "    # \n",
    "    # Por eso, MMD es depende en gran medida de este valor, por lo que su selección no puede ser arbitraria. \n",
    "    # La heurística más seguida en la literatura define este nivel de zoom (sigma_median) como la mediana de la\n",
    "    # distancia entre todos los vectores. \n",
    "    #\n",
    "    # Esto se ve aplicado de la siguiente forma:\n",
    "    complete_sample= np.vstack([reference_sample, test_sample])\n",
    "    pairwise_dists = pdist(complete_sample, metric=\"euclidean\")\n",
    "    sigma_median = np.median(pairwise_dists)\n",
    "\n",
    "\n",
    "    # Ahora instanciamos el kernel que vamos a utilizar para MMD de la siguiente forma, ya que lo vamos a llamar en\n",
    "    # repetidas ocasiones.\n",
    "    custom_kernel = partial(rbf_kernel, sigma=sigma_median)\n",
    "\n",
    "\n",
    "    # Con el kernel instanciado y las muestras de datos listas, podemos crear ya el detector MMD\n",
    "    detector = MMD(kernel=custom_kernel)\n",
    "\n",
    "    # Este detector lo entrenamos con los datos de referencia\n",
    "    detector.fit(X=reference_sample)\n",
    "\n",
    "    # Y ahora buscamos las diferencias con los datos de test.\n",
    "    result, _ = detector.compare(X=test_sample)\n",
    "\n",
    "    # El resultado es un número que representa la magnitud de la diferencia entre los dos conjuntos.\n",
    "    # Sin embargo, esta magnitud no aporta ningún detalle sobre si los datos son diferentes o son parecidos.\n",
    "    drift_magnitude = abs(result.distance)\n",
    "\n",
    "    # Para saber si la magnitud es significativa, es decir, que prueba que los dos conjuntos de datos son diferentes, hay \n",
    "    # que llevar a cabo un test de permutación. Esto busca saber si la diferencia medida es fruto del azar o no. \n",
    "    # Para esto, hay que calcular el drift entre muestras aleatorias del conjunto entero de datos durante K permutaciones.\n",
    "    # La proporción de veces que el drift observado en la permutación sea superior al medido entre los conjuntos originales\n",
    "    # determinará el p-valor (la probabilidad de que sea fruto del azar la distancia). Cuanto menor sea el p-valor más significativa\n",
    "    # es la diferencia.\n",
    "\n",
    "    # La implementación se hace así:\n",
    "\n",
    "    # Definimos la lista que guardará las veces que la magnitud observada en la permutación sea superior a la crítica (la original).\n",
    "    permutation_test= []\n",
    "\n",
    "    # Instanciamos el bucle de permutaciones\n",
    "    for permutation in range(K):\n",
    "\n",
    "        # 1. Se toma la muestra de datos completa (referencia U test) y se extraen dos conjuntos aleatorios (del mismo tamaño que los originales).\n",
    "        rng = np.random.default_rng(seed=permutation) # Crear generador aleatorio\n",
    "        shuffled = rng.permutation(complete_sample) # Desordenar la muestra completa\n",
    "        \n",
    "        # Tomar muestras de referencia y test aleatorias del mismo tamaño que las originales\n",
    "        permutation_reference_sample=   shuffled[:reference_sample_size]\n",
    "        permutation_test_sample=        shuffled[reference_sample_size : reference_sample_size + test_sample_size]\n",
    "\n",
    "        # 2. Se instancia un detector MMD (con la misma configuración de kernel) y se entrena con los datos de referencia aleatorios.\n",
    "        permutation_detector = MMD(kernel=custom_kernel)\n",
    "        permutation_detector.fit(X=permutation_reference_sample)\n",
    "\n",
    "        # 3. Se calcula la magnitud de drift entre el conjunto de datos de referencia aleatorio y el de test aleatorio\n",
    "        result, _ = permutation_detector.compare(X=permutation_test_sample) # Calculamos el drift\n",
    "        permutation_drift_magnitude = abs(result.distance) # Extraemos la magnitud del drift\n",
    "        \n",
    "        #4. Ahora añadimos a la lista de los resultados de la permutación 1 si el drift es superior o igual al crítico y 0 si no lo es. \n",
    "        if permutation_drift_magnitude >= drift_magnitude:\n",
    "            permutation_test.append(1)\n",
    "        else:\n",
    "            permutation_test.append(0)\n",
    "    \n",
    "    # Por último calculamos el p-valor como la propoción de veces que el drift observado es superior al drift crítico.\n",
    "    p_value = (1 + sum(permutation_test)) / (K + 1) # Sumamos 1 para evitar tener p-values de 0\n",
    "\n",
    "    return drift_magnitude, p_value"
   ]
  },
  {
   "cell_type": "code",
   "execution_count": null,
   "metadata": {},
   "outputs": [],
   "source": [
    "# Para minimizar el ruido en el conjunto de datos hemos instanciado como método la generación de embeddings.\n",
    "# A través de este método podremos pasarle una lista de textos y un modelo del lenguaje para que nos devuelva\n",
    "# los embeddings.\n",
    "\n",
    "def generate_embeddings(texts, pretrained_model, batch_size=128):\n",
    "    # Antes de introducir cualquier texto a un modelo hay que tokenizarlo, es decir, convertirlo en carácteres que el modelo si entiende.\n",
    "    # Para esto, cargamos el tokenizador y lo usamos tal cual se explica en el tutorial de tokenización.\n",
    "    tokenizer = AutoTokenizer.from_pretrained(pretrained_model)\n",
    "\n",
    "    # También cargamos el modelo con el que generaremos los embeddings en forma de solo inferencia\n",
    "    model= AutoModel.from_pretrained(pretrained_model)\n",
    "    encoder= model\n",
    "    if model.config.is_encoder_decoder:\n",
    "        encoder= model.encoder\n",
    "\n",
    "    encoder.eval()\n",
    "\n",
    "    # Asignamos el modelo al dispositivo correspondinete\n",
    "    device = torch.device(\"cuda\" if torch.cuda.is_available() else \"cpu\")\n",
    "    encoder.to(device)\n",
    "\n",
    "    # Si el tokenizer trae un max_length absurdo lo normalizamos a algo más manejable\n",
    "    tok_max = getattr(tokenizer, \"model_max_length\", None)\n",
    "    if isinstance(tok_max, int) and 1 < tok_max < 100000:\n",
    "        max_length = min(max_length, tok_max)\n",
    "\n",
    "    # Ahora, para mejorar el rendimiento, vamos a procesar los textos por batches\n",
    "    all_embeddings= []\n",
    "    for start in range(0, len(texts), batch_size):\n",
    "        end = start + batch_size\n",
    "        batched_text = texts[start:end]\n",
    "\n",
    "        # Tokenizamos el texto que vamos a dar al modelo\n",
    "        tokenized_texts = tokenizer(batched_text, \n",
    "                                    max_length= 1024, # Ponemos un límite al tamaño de tokens porque el modelo es capaz de trabajar con entradas grandes. \n",
    "                                    padding=True, truncation=True, \n",
    "                                    return_tensors='pt').to(device)\n",
    "\n",
    "        # Ahora pasamos todo lo que nos devuelve el tokenizador por el modelo.\n",
    "        # Además, realizamos esto dentro del entorno no_grad() para que vaya más rápida la inferencia.\n",
    "        with torch.no_grad():\n",
    "            outputs= encoder(**tokenized_texts) # La salida del modelo\n",
    "            mask = tokenized_texts[\"attention_mask\"].unsqueeze(-1) # Para evitar usar los embeddings de los padding\n",
    "            mean_pooling_embedding = (outputs.last_hidden_state * mask).sum(1) / mask.sum(1).clamp(min=1)\n",
    "        \n",
    "        all_embeddings.append(mean_pooling_embedding.cpu())\n",
    "\n",
    "    return torch.cat(all_embeddings, dim=0) "
   ]
  },
  {
   "cell_type": "markdown",
   "metadata": {},
   "source": [
    "## Carga de datos"
   ]
  },
  {
   "cell_type": "markdown",
   "metadata": {},
   "source": [
    "El primer paso es obtener el conjunto de datos con el que vamos a trabajar. Este conjunto lo vamos a descargar a través de la api de Kaggle, aunque si se prefiere se puede descargar a mano y continuar el proceso a partir de la carga del recurso."
   ]
  },
  {
   "cell_type": "code",
   "execution_count": 94,
   "metadata": {},
   "outputs": [
    {
     "name": "stdout",
     "output_type": "stream",
     "text": [
      "Warning: Your Kaggle API key is readable by other users on this system! To fix this, you can run 'chmod 600 /home/ibai/.kaggle/kaggle.json'\n",
      "Dataset URL: https://www.kaggle.com/datasets/rmisra/news-category-dataset\n"
     ]
    }
   ],
   "source": [
    "# Para descargar los datos por la API de kaggle primero tenemos que autenticarnos en ella\n",
    "api = KaggleApi()\n",
    "api.authenticate()\n",
    "\n",
    "# Después hay que seleccionar el conjunto d edatos que se desea cargar\n",
    "dataset_name= \"rmisra/news-category-dataset\"\n",
    "\n",
    "# Por último lo descargamos en la carpeta data que se creará automaticamente\n",
    "api.dataset_download_files(dataset_name, path=\"data\", unzip=True)"
   ]
  },
  {
   "cell_type": "code",
   "execution_count": 115,
   "metadata": {},
   "outputs": [
    {
     "name": "stdout",
     "output_type": "stream",
     "text": [
      "El dataset resultante tiene 900 instancias.\n"
     ]
    }
   ],
   "source": [
    "# Ahora cargamos el recurso\n",
    "df= pd.read_json(\"data/News_Category_Dataset_v3.json\", lines=True)\n",
    "\n",
    "# Convertimos las fechas a datetime y ordenamos los artículos\n",
    "df['date'] = pd.to_datetime(df['date'])\n",
    "df = df.sort_values('date')\n",
    "\n",
    "# Dado que el tamaño del dataset es muy grande, vamos a tomar un subconjunto centrado en noticias de política que contengan una descripción breve.\n",
    "# Después de analizar el contenido de las noticias de política y como el conjunto de datos proviene de un medio estadounidense, nos hemos dado cuenta\n",
    "# de que estas noticias están centradas en política nacional estadounidense. \n",
    "# Esto es importante para más adelante analizar los resultados del estudio del data drift.\n",
    "df= df[\n",
    "    (df[\"category\"]=='POLITICS') &\n",
    "    (df[\"short_description\"]!='') \n",
    "    ]\n",
    "# Las demás categorías sobre las que se puede replicar este trabajo son:\n",
    "# 'U.S. NEWS', 'COMEDY', 'PARENTING', 'WORLD NEWS', 'CULTURE & ARTS',\n",
    "# 'TECH', 'SPORTS', 'ENTERTAINMENT', 'POLITICS', 'WEIRD NEWS',\n",
    "# 'ENVIRONMENT', 'EDUCATION', 'CRIME', 'SCIENCE', 'WELLNESS',\n",
    "# 'BUSINESS', 'STYLE & BEAUTY', 'FOOD & DRINK', 'MEDIA',\n",
    "# 'QUEER VOICES', 'HOME & LIVING', 'WOMEN', 'BLACK VOICES', 'TRAVEL',\n",
    "# 'MONEY', 'RELIGION', 'LATINO VOICES', 'IMPACT', 'WEDDINGS',\n",
    "# 'COLLEGE', 'PARENTS', 'ARTS & CULTURE', 'STYLE', 'GREEN', 'TASTE',\n",
    "# 'HEALTHY LIVING', 'THE WORLDPOST', 'GOOD NEWS', 'WORLDPOST',\n",
    "# 'FIFTY', 'ARTS', 'DIVORCE'\n",
    "\n",
    "\n",
    "# Como el conjunto de datos sigue siendo muy grande para el propósito de este dataset vamos a obtener una muestra de 100 noticias por año como máximo.\n",
    "df['year'] = df['date'].dt.year\n",
    "groups = df.groupby(\"year\", group_keys=False)\n",
    "df = pd.concat(\n",
    "    [g.sample(n=min(100, len(g)), random_state=seed) for _, g in groups],\n",
    "    ignore_index=True\n",
    ")\n",
    "\n",
    "df= df.reset_index(drop=True)\n",
    "\n",
    "print(f\"El dataset resultante tiene {df.shape[0]} instancias.\")\n"
   ]
  },
  {
   "cell_type": "markdown",
   "metadata": {},
   "source": [
    "## Generación de embeddings"
   ]
  },
  {
   "cell_type": "markdown",
   "metadata": {},
   "source": [
    "Ahora vamos a generar los embeddings para las descripciones de las noticias. Es recomendable hacer este paso por separado ya que los embeddings solo hace falta generarlos una vez."
   ]
  },
  {
   "cell_type": "code",
   "execution_count": 116,
   "metadata": {},
   "outputs": [
    {
     "name": "stderr",
     "output_type": "stream",
     "text": [
      "/home/ibai/anaconda3/envs/notebooks/lib/python3.13/site-packages/transformers/convert_slow_tokenizer.py:564: UserWarning: The sentencepiece tokenizer that you are converting to a fast tokenizer uses the byte fallback option which is not implemented in the fast tokenizers. In practice this means that the fast version of the tokenizer can produce unknown tokens whereas the sentencepiece version would have converted these unknown tokens into a sequence of byte tokens matching the original piece of text.\n",
      "  warnings.warn(\n"
     ]
    }
   ],
   "source": [
    "# La particularidad que tiene calcular el data drift sobre contenido textual es que este ha de ser vectorizado.\n",
    "# Existen dos principales estrategias, convertirlo a embeddings o utilizar modelos de feature_extraction para recoger atributos.\n",
    "# En este estudio seguiremos la primera estrategia, que a su vez es la más común. Trabajaremos con la descripción de la noticia, \n",
    "# que aporta más detalle que el titular y favorecerá a la calidad del embedding.\n",
    "\n",
    "\n",
    "# Primero generamos los embeddings para todas las descripciones con el siguiente modelo:\n",
    "pretrained_model= \"google/mt5-base\"\n",
    "\n",
    "embeddings= generate_embeddings(df[\"short_description\"].to_list(), pretrained_model)\n",
    "# Como los embeddings los vamos a usar con técnicas que no funcionan en gpu los movemos a la cpu y a formato lista\n",
    "embeddings= embeddings.cpu().numpy()"
   ]
  },
  {
   "cell_type": "markdown",
   "metadata": {},
   "source": [
    "## Calculando el Drift"
   ]
  },
  {
   "cell_type": "markdown",
   "metadata": {},
   "source": [
    "Una vez generados los embeddings vamos a hacer las particiones para medir los cambios entre las noticias. En este caso vamos a analizar como han cambiado las noticias a lo largo de los años. Sin embargo, en dominios con particularidades como el político se podrían hacer estudios sobre como cambian las noticias de un periodo electoral con las del siguiente; cómo cambian las noticias publicadas durante un gobierno de una ideología comparado con las publicadas durante un mandato de otra ideología, etc."
   ]
  },
  {
   "cell_type": "code",
   "execution_count": null,
   "metadata": {},
   "outputs": [
    {
     "name": "stdout",
     "output_type": "stream",
     "text": [
      "--- 2014 ---\n",
      "--- 2015 ---\n",
      "--- 2016 ---\n",
      "--- 2017 ---\n",
      "--- 2018 ---\n",
      "--- 2019 ---\n",
      "--- 2020 ---\n",
      "--- 2021 ---\n",
      "--- 2022 ---\n"
     ]
    }
   ],
   "source": [
    "# Identificamos los años para realizar las agrupaciones\n",
    "unique_years= df[\"year\"].unique().tolist()\n",
    "\n",
    "# Instnaciamos un diccionario que guradara toda la información sobre el drift calculado\n",
    "drift= {}\n",
    "for reference_year in unique_years:\n",
    "    # Definimos los datos de referencia\n",
    "    reference_data= df[df[\"year\"]==reference_year].index\n",
    "    drift[reference_year]= {}\n",
    "    print(f\"--- {reference_year} ---\")\n",
    "\n",
    "    for test_year in unique_years:\n",
    "        # Nunca mediremos la diferencia de un conjunto consigo mismo porque siempre será magnitud 0 y p_valor 1. \n",
    "        # Por eso omitiremos este caso y lo añadimos, ahorrando coste computacional.\n",
    "        if test_year == reference_year:\n",
    "            drift[reference_year][test_year]= {\"magnitude\": 0, \"p_value\": 1}\n",
    "            continue\n",
    "        \n",
    "        # Instanciamos los datos de test\n",
    "        test_data= df[df[\"year\"]==test_year].index\n",
    "\n",
    "        # Calculamos y guardamos la magnitud del drift y su significancia\n",
    "        magnitude, p_value= mmd_drift_computation(embeddings[reference_data], embeddings[test_data])\n",
    "        drift[reference_year][test_year]= {\"magnitude\": magnitude, \"p_value\": p_value}"
   ]
  },
  {
   "cell_type": "markdown",
   "metadata": {},
   "source": [
    "## Representación Gráfica"
   ]
  },
  {
   "cell_type": "code",
   "execution_count": null,
   "metadata": {},
   "outputs": [],
   "source": [
    "# Para facilitar el estudio de los resultados en este tipo de entornos lo más intuitivo es un mapa de calor.\n",
    "# En este caso vamos a generar un mapa de calor que represente la matriz de magnitudes de drift. Además,\n",
    "# para saber si el drift es significativo o no representaremos las magnitudes NO significativas ensombrecidas.\n",
    "# Para ello dibujaremos unas líneas negras diagonales en esas casillas que no cumplan el valor del umbral de drift.\n",
    "\n",
    "def generate_drift_hetamap(drift: dict, TRESHOLD: float = 0.05, title=\"Drift magnitude\"):\n",
    "    \"\"\"\n",
    "    Genera un heatmap de magnitudes (azul=min, rojo=max) a partir de un dict anidado:\n",
    "      drift[row_key][col_key] = {'magnitude': float, 'p_value': float}\n",
    "    Además, superpone líneas diagonales negras en las celdas con p_value < TRESHOLD.\n",
    "\n",
    "    Parámetros\n",
    "    ----------\n",
    "    drift : dict\n",
    "        Diccionario anidado {fila: {columna: {'magnitude': float, 'p_value': float}}}\n",
    "    TRESHOLD : float, opcional (por defecto 0.05)\n",
    "        Umbral de significación para sombrear con hatch las celdas.\n",
    "\n",
    "    Retorna\n",
    "    -------\n",
    "    fig, ax : matplotlib Figure y Axes\n",
    "    \"\"\"\n",
    "    # 1) Orden de filas y columnas (usa orden natural si son números; si prefieres el de inserción, quita 'sorted')\n",
    "    rows = sorted(drift.keys())\n",
    "    # Asegurar columnas a partir de todas las keys internas (por si alguna fila tiene columnas distintas)\n",
    "    all_cols = set()\n",
    "    for r in drift:\n",
    "        all_cols.update(drift[r].keys())\n",
    "    cols = sorted(all_cols)\n",
    "\n",
    "    # 2) Construir matrices de magnitudes y p-values (relleno con NaN si falta alguna celda)\n",
    "    M = np.full((len(rows), len(cols)), np.nan, dtype=float)\n",
    "    P = np.full_like(M, np.nan)\n",
    "\n",
    "    for i, r in enumerate(rows):\n",
    "        for j, c in enumerate(cols):\n",
    "            cell = drift.get(r, {}).get(c, None)\n",
    "            if cell is not None:\n",
    "                M[i, j] = float(cell['magnitude'])\n",
    "                P[i, j] = float(cell['p_value'])\n",
    "\n",
    "    # 3) Rango de color (min->max) ignorando NaNs\n",
    "    vmin = np.nanmin(M)\n",
    "    vmax = np.nanmax(M)\n",
    "    if not np.isfinite(vmin) or not np.isfinite(vmax):\n",
    "        raise ValueError(\"La matriz de magnitudes está vacía o solo tiene NaNs.\")\n",
    "\n",
    "    # 4) Plot\n",
    "    fig, ax = plt.subplots(figsize=(6, 5))\n",
    "    im = ax.imshow(M, cmap='bwr', vmin=vmin, vmax=vmax, aspect='auto')\n",
    "\n",
    "    # 5) Ticks y etiquetas\n",
    "    ax.set_xticks(np.arange(len(cols)))\n",
    "    ax.set_yticks(np.arange(len(rows)))\n",
    "    ax.set_xticklabels(cols)\n",
    "    ax.set_yticklabels(rows)\n",
    "    ax.set_xlabel(\"Año de publicación de las noticias\")\n",
    "    ax.set_ylabel(\"Año de publicación de las noticias\")\n",
    "    ax.set_title(title)\n",
    "\n",
    "    # 6) Cuadrícula ligera\n",
    "    ax.set_xticks(np.arange(-0.5, len(cols), 1), minor=True)\n",
    "    ax.set_yticks(np.arange(-0.5, len(rows), 1), minor=True)\n",
    "    ax.grid(which=\"minor\", color=\"white\", linestyle='-', linewidth=1, alpha=0.6)\n",
    "    ax.tick_params(which=\"minor\", bottom=False, left=False)\n",
    "\n",
    "    # 7) Sombreado (hatch) para p_value < TRESHOLD\n",
    "    for i in range(len(rows)):\n",
    "        for j in range(len(cols)):\n",
    "            if np.isfinite(P[i, j]) and P[i, j] >= TRESHOLD:\n",
    "                # Cada celda va de (j-0.5, i-0.5) a (j+0.5, i+0.5) en coordenadas de imshow\n",
    "                rect = Rectangle((j-0.5, i-0.5), 1, 1,\n",
    "                                 fill=False, hatch='///', edgecolor='0.0', linewidth=0.0)\n",
    "                ax.add_patch(rect)\n",
    "\n",
    "    # 8) Barra de color\n",
    "    cbar = fig.colorbar(im, ax=ax)\n",
    "    cbar.set_label(\"Magnitude\")\n",
    "\n",
    "    fig.tight_layout()\n",
    "    return fig, ax"
   ]
  },
  {
   "cell_type": "code",
   "execution_count": null,
   "metadata": {},
   "outputs": [
    {
     "data": {
      "image/png": "[encoded data removed]",
      "text/plain": [
       "<Figure size 600x500 with 2 Axes>"
      ]
     },
     "metadata": {},
     "output_type": "display_data"
    }
   ],
   "source": [
    "# El resultado puede ver de la siguiente forma\n",
    "fig, ax = generate_drift_hetamap(drift, TRESHOLD=0.05, title=\"Magnitud del drift en POLITICS\")\n",
    "plt.show()"
   ]
  },
  {
   "cell_type": "markdown",
   "metadata": {},
   "source": [
    "¿Cómo podemos interpretar este gráfico?\n",
    "\n",
    "Vamos a buscar: cuando han ocurrido las elecciones estadounidenses; cuales han sido los periodos de gobierno; quién ha gobernado en cada periodo; y si ha ocurrido algo de alta relevancia que pueda afectar al dominio político durante los años analizados.\n",
    "\n",
    "Elecciones: \n",
    "- 8 de noviembre de 2016\n",
    "- 3 de noviembre de 2020 \n",
    "\n",
    "Periodos electorales:\n",
    "- Barack Obama (Demócrata) --> 20 enero 2013 - 20 enero 2017\n",
    "- Donald Trump (Republicano) --> 20 enero 2017 - 20 enero 2021\n",
    "- Joe Biden (Demócrata) --> 20 enero 2021 - 20 enero 2025\n",
    "\n",
    "Sucesos de relevancia en el discurso político:\n",
    "- Pandemia del COVID-19 --> 2020\n",
    "\n",
    "\n",
    "Con esta información, hay que analizar los cambios detectados y medidos para tratar de expresar lo que ha ocurrido. Un estudio como este solo es válido como premisa para un estudio cualitativo en mayor profundidad. No podemos deducir el cambio en los textos a partir de esta información porque puede que no sea real. Sin embargo, nos permite saber en que cosas profundizar con mayor detalle y en cuales con menos."
   ]
  }
 ],
 "metadata": {
  "kernelspec": {
   "display_name": "Python (notebooks)",
   "language": "python",
   "name": "notebooks"
  },
  "language_info": {
   "codemirror_mode": {
    "name": "ipython",
    "version": 3
   },
   "file_extension": ".py",
   "mimetype": "text/x-python",
   "name": "python",
   "nbconvert_exporter": "python",
   "pygments_lexer": "ipython3",
   "version": "3.13.7"
  }
 },
 "nbformat": 4,
 "nbformat_minor": 2
}
